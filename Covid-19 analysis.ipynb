{
    "cells": [
        {
            "metadata": {
                "collapsed": true
            },
            "cell_type": "markdown",
            "source": "# Brazil's Covid-19 spread\n\n\n### Introduction\n    \n   Covid-19 is a virus originated from china. It's impact on the world is unquestionable. This notebook will try to analyse it's propagation in Brazil comparing with Italy, where the viruses impact is, by the time this notebook is written, more chaotic. <br>\n   In order to help people and prevent this disease from spreading endlessly, I will be comparing both countries, using Foursquare api for mapping and intregrating it to the dateset already imported to maximize our accuracy of how would the virus spread in Brazil's territory, then we will be capable of elaborating solutions.\n    "
        },
        {
            "metadata": {},
            "cell_type": "markdown",
            "source": "## Dataset\n\n    I'm going to be using a realtime dataset from tableau. available on: \n    https://data.world/covid-19-data-resource-hub/covid-19-case-counts/workspace/file?filename=COVID-19+Cases.csv\n    \n### features\n\n1. Date\n * Date of infection\n * type: Date\n2. Country_Region\n * Country\n * type: String \n3. Province_State\n * Province or state\n * type: String\n4. Case_Type\n * Status:\n       1. Active\n       2. Confirmed\n       3. Deaths\n       4. Recovered\n * type: String\n5. Cases\n * type: Int\n6. Difference\n * type: Int\n7. Prep_Flow_Runtime\n * Dataset insert datetime\n * type: Datetime\n8. Latest_Date\n * Latest insert date\n * type: Date\n9. Lat\n * Latitude\n * type: Decimal\n10. Long\n * Longitude\n * type: Decimal\n"
        },
        {
            "metadata": {},
            "cell_type": "markdown",
            "source": "### Data import"
        },
        {
            "metadata": {},
            "cell_type": "code",
            "source": "# Imports\nimport pandas as pd\nimport numpy as np\n",
            "execution_count": 1,
            "outputs": []
        },
        {
            "metadata": {},
            "cell_type": "code",
            "source": "covid_df = pd.read_csv(\"https://query.data.world/s/hxqi5dd2vp5gk6af6cnitl7tm7remi\")\ncovid_df.head()",
            "execution_count": 2,
            "outputs": [
                {
                    "output_type": "execute_result",
                    "execution_count": 2,
                    "data": {
                        "text/plain": "        Date Country_Region Province_State  Case_Type  Cases  Difference  \\\n0  3/11/2020             US        Arizona  Recovered      0           0   \n1  3/11/2020             US        Arizona     Deaths      0           0   \n2  3/11/2020             US        Arizona  Confirmed      0           0   \n3  3/11/2020             US        Arizona     Active      0           0   \n4  2/15/2020             US        Arizona  Recovered      0           0   \n\n      Prep_Flow_Runtime Latest_Date      Lat      Long  \n0  3/18/2020 5:57:42 AM   3/17/2020  32.0575 -111.6661  \n1  3/18/2020 5:57:42 AM   3/17/2020  32.0575 -111.6661  \n2  3/18/2020 5:57:42 AM   3/17/2020  32.0575 -111.6661  \n3  3/18/2020 5:57:42 AM   3/17/2020  32.0575 -111.6661  \n4  3/18/2020 5:57:42 AM   3/17/2020  32.8162 -111.2845  ",
                        "text/html": "<div>\n<style scoped>\n    .dataframe tbody tr th:only-of-type {\n        vertical-align: middle;\n    }\n\n    .dataframe tbody tr th {\n        vertical-align: top;\n    }\n\n    .dataframe thead th {\n        text-align: right;\n    }\n</style>\n<table border=\"1\" class=\"dataframe\">\n  <thead>\n    <tr style=\"text-align: right;\">\n      <th></th>\n      <th>Date</th>\n      <th>Country_Region</th>\n      <th>Province_State</th>\n      <th>Case_Type</th>\n      <th>Cases</th>\n      <th>Difference</th>\n      <th>Prep_Flow_Runtime</th>\n      <th>Latest_Date</th>\n      <th>Lat</th>\n      <th>Long</th>\n    </tr>\n  </thead>\n  <tbody>\n    <tr>\n      <th>0</th>\n      <td>3/11/2020</td>\n      <td>US</td>\n      <td>Arizona</td>\n      <td>Recovered</td>\n      <td>0</td>\n      <td>0</td>\n      <td>3/18/2020 5:57:42 AM</td>\n      <td>3/17/2020</td>\n      <td>32.0575</td>\n      <td>-111.6661</td>\n    </tr>\n    <tr>\n      <th>1</th>\n      <td>3/11/2020</td>\n      <td>US</td>\n      <td>Arizona</td>\n      <td>Deaths</td>\n      <td>0</td>\n      <td>0</td>\n      <td>3/18/2020 5:57:42 AM</td>\n      <td>3/17/2020</td>\n      <td>32.0575</td>\n      <td>-111.6661</td>\n    </tr>\n    <tr>\n      <th>2</th>\n      <td>3/11/2020</td>\n      <td>US</td>\n      <td>Arizona</td>\n      <td>Confirmed</td>\n      <td>0</td>\n      <td>0</td>\n      <td>3/18/2020 5:57:42 AM</td>\n      <td>3/17/2020</td>\n      <td>32.0575</td>\n      <td>-111.6661</td>\n    </tr>\n    <tr>\n      <th>3</th>\n      <td>3/11/2020</td>\n      <td>US</td>\n      <td>Arizona</td>\n      <td>Active</td>\n      <td>0</td>\n      <td>0</td>\n      <td>3/18/2020 5:57:42 AM</td>\n      <td>3/17/2020</td>\n      <td>32.0575</td>\n      <td>-111.6661</td>\n    </tr>\n    <tr>\n      <th>4</th>\n      <td>2/15/2020</td>\n      <td>US</td>\n      <td>Arizona</td>\n      <td>Recovered</td>\n      <td>0</td>\n      <td>0</td>\n      <td>3/18/2020 5:57:42 AM</td>\n      <td>3/17/2020</td>\n      <td>32.8162</td>\n      <td>-111.2845</td>\n    </tr>\n  </tbody>\n</table>\n</div>"
                    },
                    "metadata": {}
                }
            ]
        },
        {
            "metadata": {},
            "cell_type": "code",
            "source": "",
            "execution_count": null,
            "outputs": []
        }
    ],
    "metadata": {
        "kernelspec": {
            "name": "python3",
            "display_name": "Python 3.6",
            "language": "python"
        },
        "language_info": {
            "name": "python",
            "version": "3.6.9",
            "mimetype": "text/x-python",
            "codemirror_mode": {
                "name": "ipython",
                "version": 3
            },
            "pygments_lexer": "ipython3",
            "nbconvert_exporter": "python",
            "file_extension": ".py"
        }
    },
    "nbformat": 4,
    "nbformat_minor": 1
}